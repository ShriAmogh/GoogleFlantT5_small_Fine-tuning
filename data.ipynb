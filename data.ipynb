{
 "cells": [
  {
   "cell_type": "code",
   "execution_count": 1,
   "id": "8a3145c1",
   "metadata": {},
   "outputs": [],
   "source": [
    "import json"
   ]
  },
  {
   "cell_type": "code",
   "execution_count": 9,
   "id": "286484e4",
   "metadata": {},
   "outputs": [],
   "source": [
    "def load_data(dataset,topic, number):\n",
    "    with open(f'G:/Python/fine_tune_improve_mathematical_reasoning/Qwen2.5-1.5B_Fine-tuning/dataset/MATH/{dataset}/{topic}/{number}.json', 'r', encoding= 'utf-8') as f:\n",
    "        data = json.load(f)\n",
    "    return data\n"
   ]
  },
  {
   "cell_type": "code",
   "execution_count": 11,
   "id": "a0ce8803",
   "metadata": {},
   "outputs": [
    {
     "name": "stdout",
     "output_type": "stream",
     "text": [
      "Content of 0.json\n",
      "(\"{'problem': 'Let \\\\\\\\[f(x) = \\\\\\\\left\\\\\\\\{\\\\n\\\\\\\\begin{array}{cl} ax+3, \"\n",
      " '&\\\\\\\\text{ if }x>2, \\\\\\\\\\\\\\\\\\\\nx-5 &\\\\\\\\text{ if } -2 \\\\\\\\le x \\\\\\\\le 2, '\n",
      " '\\\\\\\\\\\\\\\\\\\\n2x-b &\\\\\\\\text{ if } x '\n",
      " '<-2.\\\\n\\\\\\\\end{array}\\\\n\\\\\\\\right.\\\\\\\\]Find $a+b$ if the piecewise function '\n",
      " 'is continuous (which means that its graph can be drawn without lifting your '\n",
      " \"pencil from the paper).', 'level': 'Level 5', 'type': 'Algebra', 'solution': \"\n",
      " '\\'For the piecewise function to be continuous, the cases must \"meet\" at $2$ '\n",
      " 'and $-2$. For example, $ax+3$ and $x-5$ must be equal when $x=2$. This '\n",
      " 'implies $a(2)+3=2-5$, which we solve to get $2a=-6 \\\\\\\\Rightarrow a=-3$. '\n",
      " 'Similarly, $x-5$ and $2x-b$ must be equal when $x=-2$. Substituting, we get '\n",
      " \"$-2-5=2(-2)-b$, which implies $b=3$. So $a+b=-3+3=\\\\\\\\boxed{0}$.'}\")\n",
      "1.json is in test dataset. \n",
      "\n",
      "2.json is in test dataset. \n",
      "\n",
      "Content of 3.json\n",
      "(\"{'problem': 'If $A=2+i$, $O=-4$, $P=-i$, and $S=2+4i$, find $A-O+P+S$.', \"\n",
      " \"'level': 'Level 3', 'type': 'Algebra', 'solution': 'Adding real parts and \"\n",
      " 'imaginary parts separately, we have '\n",
      " \"$(2-(-4)+0+2)+(1+0-1+4)i=\\\\\\\\boxed{8+4i}$.'}\")\n",
      "Content of 4.json\n",
      "(\"{'problem': 'The perimeter of a rectangle is 24 inches. What is the number \"\n",
      " \"of square inches in the maximum possible area for this rectangle?', 'level': \"\n",
      " \"'Level 3', 'type': 'Algebra', 'solution': 'Let one pair of parallel sides \"\n",
      " 'have length $x$ and the other pair of parallel sides have length $12-x$. '\n",
      " 'This means that the perimeter of the rectangle is $x+x+12-x+12-x=24$ as the '\n",
      " 'problem states. The area of this rectangle is $12x-x^2$. Completing the '\n",
      " 'square results in $-(x-6)^2+36\\\\\\\\le 36$ since $(x-6)^2\\\\\\\\ge 0$, so the '\n",
      " 'maximum area of $\\\\\\\\boxed{36}$ is obtained when the rectangle is a square '\n",
      " \"of side length 6 inches.'}\")\n"
     ]
    }
   ],
   "source": [
    "import pprint\n",
    "\n",
    "for i in range(5):\n",
    "    try:\n",
    "        data = load_data('train','algebra',i)\n",
    "        print(f\"Content of {i}.json\")\n",
    "        pprint.pprint(f\"{data}\")\n",
    "    except:\n",
    "        print(f\"{i}.json is in test dataset. \\n\")"
   ]
  },
  {
   "cell_type": "code",
   "execution_count": 15,
   "id": "396be79e",
   "metadata": {},
   "outputs": [
    {
     "name": "stdout",
     "output_type": "stream",
     "text": [
      "{'answer': 'Janet sells 16 - 3 - 4 = <<16-3-4=9>>9 duck eggs a day.\\n'\n",
      "           'She makes 9 * 2 = $<<9*2=18>>18 every day at the farmer’s market.\\n'\n",
      "           '#### 18',\n",
      " 'question': 'Janet’s ducks lay 16 eggs per day. She eats three for breakfast '\n",
      "             'every morning and bakes muffins for her friends every day with '\n",
      "             \"four. She sells the remainder at the farmers' market daily for \"\n",
      "             '$2 per fresh duck egg. How much in dollars does she make every '\n",
      "             \"day at the farmers' market?\"}\n"
     ]
    }
   ],
   "source": [
    "#viewing test.jsonl\n",
    "import json \n",
    "\n",
    "with open('G:/Python/fine_tune_improve_mathematical_reasoning/Qwen2.5-1.5B_Fine-tuning/dataset/GM8K/test.jsonl', 'r') as f:\n",
    "    line = f.readline()\n",
    "    data = json.loads(line)\n",
    "pprint.pprint(data)"
   ]
  },
  {
   "cell_type": "code",
   "execution_count": 16,
   "id": "01825873",
   "metadata": {},
   "outputs": [],
   "source": [
    "import os\n",
    "file_name = \"gm8k.csv\"\n",
    "with open(f\"G:/Python/fine_tune_improve_mathematical_reasoning/Qwen2.5-1.5B_Fine-tuning/dataset/{file_name}\", 'a') as f:\n",
    "    pass"
   ]
  },
  {
   "cell_type": "code",
   "execution_count": 18,
   "id": "650b6630",
   "metadata": {},
   "outputs": [],
   "source": [
    "test_jsonl = 'G:/Python/fine_tune_improve_mathematical_reasoning/Qwen2.5-1.5B_Fine-tuning/dataset/GM8K/test.jsonl'\n",
    "test_csv = \"G:/Python/fine_tune_improve_mathematical_reasoning/Qwen2.5-1.5B_Fine-tuning/dataset/gm8k.csv\"\n",
    "with open(test_jsonl, 'r') as f:\n",
    "    data = [json.loads(line.strip()) for line in f]\n",
    "\n",
    "headers = data[0].keys()\n",
    "\n",
    "import csv\n",
    "with open(test_csv, 'w', newline='', encoding='utf-8') as csv_file:\n",
    "    writer = csv.DictWriter(csv_file, fieldnames=headers)\n",
    "    writer.writeheader()\n",
    "    writer.writerows(data)\n"
   ]
  },
  {
   "cell_type": "code",
   "execution_count": 19,
   "id": "9eba222f",
   "metadata": {},
   "outputs": [
    {
     "data": {
      "text/html": [
       "<div>\n",
       "<style scoped>\n",
       "    .dataframe tbody tr th:only-of-type {\n",
       "        vertical-align: middle;\n",
       "    }\n",
       "\n",
       "    .dataframe tbody tr th {\n",
       "        vertical-align: top;\n",
       "    }\n",
       "\n",
       "    .dataframe thead th {\n",
       "        text-align: right;\n",
       "    }\n",
       "</style>\n",
       "<table border=\"1\" class=\"dataframe\">\n",
       "  <thead>\n",
       "    <tr style=\"text-align: right;\">\n",
       "      <th></th>\n",
       "      <th>question</th>\n",
       "      <th>answer</th>\n",
       "    </tr>\n",
       "  </thead>\n",
       "  <tbody>\n",
       "    <tr>\n",
       "      <th>0</th>\n",
       "      <td>Janet’s ducks lay 16 eggs per day. She eats th...</td>\n",
       "      <td>Janet sells 16 - 3 - 4 = &lt;&lt;16-3-4=9&gt;&gt;9 duck eg...</td>\n",
       "    </tr>\n",
       "    <tr>\n",
       "      <th>1</th>\n",
       "      <td>A robe takes 2 bolts of blue fiber and half th...</td>\n",
       "      <td>It takes 2/2=&lt;&lt;2/2=1&gt;&gt;1 bolt of white fiber\\nS...</td>\n",
       "    </tr>\n",
       "    <tr>\n",
       "      <th>2</th>\n",
       "      <td>Josh decides to try flipping a house.  He buys...</td>\n",
       "      <td>The cost of the house and repairs came out to ...</td>\n",
       "    </tr>\n",
       "    <tr>\n",
       "      <th>3</th>\n",
       "      <td>James decides to run 3 sprints 3 times a week....</td>\n",
       "      <td>He sprints 3*3=&lt;&lt;3*3=9&gt;&gt;9 times\\nSo he runs 9*...</td>\n",
       "    </tr>\n",
       "    <tr>\n",
       "      <th>4</th>\n",
       "      <td>Every day, Wendi feeds each of her chickens th...</td>\n",
       "      <td>If each chicken eats 3 cups of feed per day, t...</td>\n",
       "    </tr>\n",
       "  </tbody>\n",
       "</table>\n",
       "</div>"
      ],
      "text/plain": [
       "                                            question  \\\n",
       "0  Janet’s ducks lay 16 eggs per day. She eats th...   \n",
       "1  A robe takes 2 bolts of blue fiber and half th...   \n",
       "2  Josh decides to try flipping a house.  He buys...   \n",
       "3  James decides to run 3 sprints 3 times a week....   \n",
       "4  Every day, Wendi feeds each of her chickens th...   \n",
       "\n",
       "                                              answer  \n",
       "0  Janet sells 16 - 3 - 4 = <<16-3-4=9>>9 duck eg...  \n",
       "1  It takes 2/2=<<2/2=1>>1 bolt of white fiber\\nS...  \n",
       "2  The cost of the house and repairs came out to ...  \n",
       "3  He sprints 3*3=<<3*3=9>>9 times\\nSo he runs 9*...  \n",
       "4  If each chicken eats 3 cups of feed per day, t...  "
      ]
     },
     "execution_count": 19,
     "metadata": {},
     "output_type": "execute_result"
    }
   ],
   "source": [
    "import pandas as pd\n",
    "df = pd.read_csv(test_csv)\n",
    "df.head()"
   ]
  },
  {
   "cell_type": "code",
   "execution_count": 21,
   "id": "5fdaa9c3",
   "metadata": {},
   "outputs": [],
   "source": [
    "#create another column for specific answer\n",
    "import re\n",
    "df[\"final_solution\"] = df[\"answer\"].str.extract(r'####\\s*(.*)')\n",
    "df.to_csv(\"G:/Python/fine_tune_improve_mathematical_reasoning/Qwen2.5-1.5B_Fine-tuning/dataset/gm8k.csv\", index=False)\n"
   ]
  },
  {
   "cell_type": "code",
   "execution_count": 22,
   "id": "7c6b4436",
   "metadata": {},
   "outputs": [
    {
     "data": {
      "text/html": [
       "<div>\n",
       "<style scoped>\n",
       "    .dataframe tbody tr th:only-of-type {\n",
       "        vertical-align: middle;\n",
       "    }\n",
       "\n",
       "    .dataframe tbody tr th {\n",
       "        vertical-align: top;\n",
       "    }\n",
       "\n",
       "    .dataframe thead th {\n",
       "        text-align: right;\n",
       "    }\n",
       "</style>\n",
       "<table border=\"1\" class=\"dataframe\">\n",
       "  <thead>\n",
       "    <tr style=\"text-align: right;\">\n",
       "      <th></th>\n",
       "      <th>question</th>\n",
       "      <th>answer</th>\n",
       "      <th>final_solution</th>\n",
       "    </tr>\n",
       "  </thead>\n",
       "  <tbody>\n",
       "    <tr>\n",
       "      <th>0</th>\n",
       "      <td>Janet’s ducks lay 16 eggs per day. She eats th...</td>\n",
       "      <td>Janet sells 16 - 3 - 4 = &lt;&lt;16-3-4=9&gt;&gt;9 duck eg...</td>\n",
       "      <td>18</td>\n",
       "    </tr>\n",
       "    <tr>\n",
       "      <th>1</th>\n",
       "      <td>A robe takes 2 bolts of blue fiber and half th...</td>\n",
       "      <td>It takes 2/2=&lt;&lt;2/2=1&gt;&gt;1 bolt of white fiber\\nS...</td>\n",
       "      <td>3</td>\n",
       "    </tr>\n",
       "    <tr>\n",
       "      <th>2</th>\n",
       "      <td>Josh decides to try flipping a house.  He buys...</td>\n",
       "      <td>The cost of the house and repairs came out to ...</td>\n",
       "      <td>70000</td>\n",
       "    </tr>\n",
       "    <tr>\n",
       "      <th>3</th>\n",
       "      <td>James decides to run 3 sprints 3 times a week....</td>\n",
       "      <td>He sprints 3*3=&lt;&lt;3*3=9&gt;&gt;9 times\\nSo he runs 9*...</td>\n",
       "      <td>540</td>\n",
       "    </tr>\n",
       "    <tr>\n",
       "      <th>4</th>\n",
       "      <td>Every day, Wendi feeds each of her chickens th...</td>\n",
       "      <td>If each chicken eats 3 cups of feed per day, t...</td>\n",
       "      <td>20</td>\n",
       "    </tr>\n",
       "  </tbody>\n",
       "</table>\n",
       "</div>"
      ],
      "text/plain": [
       "                                            question  \\\n",
       "0  Janet’s ducks lay 16 eggs per day. She eats th...   \n",
       "1  A robe takes 2 bolts of blue fiber and half th...   \n",
       "2  Josh decides to try flipping a house.  He buys...   \n",
       "3  James decides to run 3 sprints 3 times a week....   \n",
       "4  Every day, Wendi feeds each of her chickens th...   \n",
       "\n",
       "                                              answer final_solution  \n",
       "0  Janet sells 16 - 3 - 4 = <<16-3-4=9>>9 duck eg...             18  \n",
       "1  It takes 2/2=<<2/2=1>>1 bolt of white fiber\\nS...              3  \n",
       "2  The cost of the house and repairs came out to ...          70000  \n",
       "3  He sprints 3*3=<<3*3=9>>9 times\\nSo he runs 9*...            540  \n",
       "4  If each chicken eats 3 cups of feed per day, t...             20  "
      ]
     },
     "execution_count": 22,
     "metadata": {},
     "output_type": "execute_result"
    }
   ],
   "source": [
    "df.head()"
   ]
  },
  {
   "cell_type": "code",
   "execution_count": 25,
   "id": "f148929d",
   "metadata": {},
   "outputs": [],
   "source": [
    "from sklearn.model_selection import train_test_split\n",
    "X = df['question']\n",
    "y = df['final_solution']\n",
    "X_train , X_test , y_train, y_test = train_test_split(X,y, test_size=0.2, random_state=42)"
   ]
  },
  {
   "cell_type": "code",
   "execution_count": 26,
   "id": "22e5363b",
   "metadata": {},
   "outputs": [
    {
     "data": {
      "text/plain": [
       "['split_data.joblib']"
      ]
     },
     "execution_count": 26,
     "metadata": {},
     "output_type": "execute_result"
    }
   ],
   "source": [
    "import joblib\n",
    "\n",
    "joblib.dump((X_train, X_test, y_train, y_test), \"split_data.joblib\")\n"
   ]
  },
  {
   "cell_type": "code",
   "execution_count": null,
   "id": "a7637cd3",
   "metadata": {},
   "outputs": [],
   "source": []
  }
 ],
 "metadata": {
  "kernelspec": {
   "display_name": "Python 3",
   "language": "python",
   "name": "python3"
  },
  "language_info": {
   "codemirror_mode": {
    "name": "ipython",
    "version": 3
   },
   "file_extension": ".py",
   "mimetype": "text/x-python",
   "name": "python",
   "nbconvert_exporter": "python",
   "pygments_lexer": "ipython3",
   "version": "3.10.0"
  }
 },
 "nbformat": 4,
 "nbformat_minor": 5
}
