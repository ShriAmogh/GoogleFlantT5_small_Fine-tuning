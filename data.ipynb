{
 "cells": [
  {
   "cell_type": "code",
   "execution_count": 1,
   "id": "8a3145c1",
   "metadata": {},
   "outputs": [],
   "source": [
    "import json"
   ]
  },
  {
   "cell_type": "code",
   "execution_count": 9,
   "id": "286484e4",
   "metadata": {},
   "outputs": [],
   "source": [
    "def load_data(dataset,topic, number):\n",
    "    with open(f'G:/Python/fine_tune_improve_mathematical_reasoning/Qwen2.5-1.5B_Fine-tuning/dataset/MATH/{dataset}/{topic}/{number}.json', 'r', encoding= 'utf-8') as f:\n",
    "        data = json.load(f)\n",
    "    return data\n"
   ]
  },
  {
   "cell_type": "code",
   "execution_count": 11,
   "id": "a0ce8803",
   "metadata": {},
   "outputs": [
    {
     "name": "stdout",
     "output_type": "stream",
     "text": [
      "Content of 0.json\n",
      "(\"{'problem': 'Let \\\\\\\\[f(x) = \\\\\\\\left\\\\\\\\{\\\\n\\\\\\\\begin{array}{cl} ax+3, \"\n",
      " '&\\\\\\\\text{ if }x>2, \\\\\\\\\\\\\\\\\\\\nx-5 &\\\\\\\\text{ if } -2 \\\\\\\\le x \\\\\\\\le 2, '\n",
      " '\\\\\\\\\\\\\\\\\\\\n2x-b &\\\\\\\\text{ if } x '\n",
      " '<-2.\\\\n\\\\\\\\end{array}\\\\n\\\\\\\\right.\\\\\\\\]Find $a+b$ if the piecewise function '\n",
      " 'is continuous (which means that its graph can be drawn without lifting your '\n",
      " \"pencil from the paper).', 'level': 'Level 5', 'type': 'Algebra', 'solution': \"\n",
      " '\\'For the piecewise function to be continuous, the cases must \"meet\" at $2$ '\n",
      " 'and $-2$. For example, $ax+3$ and $x-5$ must be equal when $x=2$. This '\n",
      " 'implies $a(2)+3=2-5$, which we solve to get $2a=-6 \\\\\\\\Rightarrow a=-3$. '\n",
      " 'Similarly, $x-5$ and $2x-b$ must be equal when $x=-2$. Substituting, we get '\n",
      " \"$-2-5=2(-2)-b$, which implies $b=3$. So $a+b=-3+3=\\\\\\\\boxed{0}$.'}\")\n",
      "1.json is in test dataset. \n",
      "\n",
      "2.json is in test dataset. \n",
      "\n",
      "Content of 3.json\n",
      "(\"{'problem': 'If $A=2+i$, $O=-4$, $P=-i$, and $S=2+4i$, find $A-O+P+S$.', \"\n",
      " \"'level': 'Level 3', 'type': 'Algebra', 'solution': 'Adding real parts and \"\n",
      " 'imaginary parts separately, we have '\n",
      " \"$(2-(-4)+0+2)+(1+0-1+4)i=\\\\\\\\boxed{8+4i}$.'}\")\n",
      "Content of 4.json\n",
      "(\"{'problem': 'The perimeter of a rectangle is 24 inches. What is the number \"\n",
      " \"of square inches in the maximum possible area for this rectangle?', 'level': \"\n",
      " \"'Level 3', 'type': 'Algebra', 'solution': 'Let one pair of parallel sides \"\n",
      " 'have length $x$ and the other pair of parallel sides have length $12-x$. '\n",
      " 'This means that the perimeter of the rectangle is $x+x+12-x+12-x=24$ as the '\n",
      " 'problem states. The area of this rectangle is $12x-x^2$. Completing the '\n",
      " 'square results in $-(x-6)^2+36\\\\\\\\le 36$ since $(x-6)^2\\\\\\\\ge 0$, so the '\n",
      " 'maximum area of $\\\\\\\\boxed{36}$ is obtained when the rectangle is a square '\n",
      " \"of side length 6 inches.'}\")\n"
     ]
    }
   ],
   "source": [
    "import pprint\n",
    "\n",
    "for i in range(5):\n",
    "    try:\n",
    "        data = load_data('train','algebra',i)\n",
    "        print(f\"Content of {i}.json\")\n",
    "        pprint.pprint(f\"{data}\")\n",
    "    except:\n",
    "        print(f\"{i}.json is in test dataset. \\n\")"
   ]
  },
  {
   "cell_type": "code",
   "execution_count": null,
   "id": "01825873",
   "metadata": {},
   "outputs": [],
   "source": []
  }
 ],
 "metadata": {
  "kernelspec": {
   "display_name": "Python 3",
   "language": "python",
   "name": "python3"
  },
  "language_info": {
   "codemirror_mode": {
    "name": "ipython",
    "version": 3
   },
   "file_extension": ".py",
   "mimetype": "text/x-python",
   "name": "python",
   "nbconvert_exporter": "python",
   "pygments_lexer": "ipython3",
   "version": "3.10.0"
  }
 },
 "nbformat": 4,
 "nbformat_minor": 5
}
